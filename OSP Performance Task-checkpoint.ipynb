{
 "cells": [
  {
   "cell_type": "code",
   "execution_count": 1,
   "id": "30a46998",
   "metadata": {},
   "outputs": [],
   "source": [
    "#NYCDOE Research and Data Analyst position \n",
    "#OSP Performance Task\n",
    "#Created by:  Orinthea Sommersell\n",
    "#Date created:        07/09/2022\n",
    "\n",
    "##THINGS TO DO\n",
    "##   ##### NEED TO SWITCH DIRECTORY TO MY aLIENWARE AT THE END\n",
    "###################################################################################################\n",
    "\n",
    "#working directory\n",
    "import os\n",
    "os.getcwd()\n",
    "\n",
    "#import directory\n",
    "os.chdir ('C:\\\\Users\\\\OSommersell\\\\OneDrive - NYCDOE\\\\Desktop\\\\Python data\\\\OSP Performance task')  \n",
    "\n",
    "#import libraries\n",
    "import pandas as pd\n",
    "import numpy as np\n",
    "import matplotlib.pyplot as plt\n",
    "import seaborn as sns\n",
    "import statistics\n",
    "\n"
   ]
  },
  {
   "cell_type": "code",
   "execution_count": 2,
   "id": "4d5357cf",
   "metadata": {},
   "outputs": [],
   "source": [
    "#Import the data# \n",
    "elascores = pd.read_excel(\"school-ela-results-2013-2019-(public).xlsx\", header= 0, sheet_name=\"ELL\").reset_index(drop=True)\n",
    "student_demograhpic = pd.read_excel(\"demographic-snapshot-2017-18-to-2021-22.xlsx\", header= 0, sheet_name=\"School\").reset_index(drop=True)"
   ]
  },
  {
   "cell_type": "code",
   "execution_count": 3,
   "id": "e00204a4",
   "metadata": {},
   "outputs": [],
   "source": [
    "#Remove charter, D75 & D79 schools\n",
    "student_demograhpic['charter'] = student_demograhpic['DBN'].str[:2]\n",
    "student_demograhpic = student_demograhpic[student_demograhpic['charter']!='84']\n",
    "student_demograhpic['D75'] = student_demograhpic['DBN'].str[:2]\n",
    "student_demograhpic = student_demograhpic[student_demograhpic['D75']!='75']\n",
    "student_demograhpic['D79'] = student_demograhpic['DBN'].str[:2]\n",
    "student_demograhpic = student_demograhpic[student_demograhpic['D79']!='79']\n",
    "\n",
    "\n",
    "elascores['charter'] = elascores['DBN'].str[:2]\n",
    "elascores = elascores[elascores['charter']!='84']\n",
    "elascores['D75'] = elascores['DBN'].str[:2]\n",
    "elascores = elascores[elascores['D75']!='75']\n",
    "elascores['D79'] = elascores['DBN'].str[:2]\n",
    "elascores = elascores[elascores['D79']!='79']"
   ]
  },
  {
   "cell_type": "code",
   "execution_count": 4,
   "id": "b2a91cb8",
   "metadata": {},
   "outputs": [],
   "source": [
    "#Filter for relevant years and ALL Grades\n",
    "elascores = elascores[(elascores[\"Year\"] == 2017) | (elascores[\"Year\"] == 2018) | (elascores[\"Year\"] == 2019)]\n",
    "elascores = elascores[(elascores[\"Grade\"] == \"All Grades\")]\n",
    "elascores = elascores[(elascores[\"Category\"] == \"Current ELL\") | (elascores[\"Category\"] == \"Ever ELL\")]\n",
    "student_demograhpic = student_demograhpic[(student_demograhpic[\"Year\"] == '2017-18') | (student_demograhpic[\"Year\"] == '2018-19') | (student_demograhpic[\"Year\"] == '2019-20')]"
   ]
  },
  {
   "cell_type": "code",
   "execution_count": 5,
   "id": "6d196dad",
   "metadata": {},
   "outputs": [],
   "source": [
    "#Filter for relevant columns, select SY 2017, 2018 & 2019 from elascores table \n",
    "#and 2017-18,2018-19 & 2019-20 from student_demographic table\n",
    "\n",
    "\n",
    "#Filter for certain columns\n",
    "elascores = elascores[[\"DBN\",\"School Name\", \"Grade\", \"Year\", \"Category\", \"# Level 1\", \"# Level 2\", \"# Level 3\", \"# Level 4\"]]\n",
    "student_demograhpic = student_demograhpic[[\"DBN\",\"School Name\", \"Year\", \"Total Enrollment\", \"# English Language Learners\", \"% English Language Learners\"]]\n"
   ]
  },
  {
   "cell_type": "code",
   "execution_count": 6,
   "id": "f89793f9",
   "metadata": {},
   "outputs": [],
   "source": [
    "#Filter out where ELL = 0\n",
    " \n",
    "student_demograhpic = student_demograhpic[ (student_demograhpic[\"# English Language Learners\"] != 0) & (student_demograhpic[\"% English Language Learners\"] != 0)]"
   ]
  },
  {
   "cell_type": "code",
   "execution_count": 7,
   "id": "80e294a1",
   "metadata": {},
   "outputs": [],
   "source": [
    "#Replace s in levels with blank\n",
    "elascores = elascores.replace(\"s\", '', regex=True) "
   ]
  },
  {
   "cell_type": "code",
   "execution_count": 8,
   "id": "19290586",
   "metadata": {},
   "outputs": [],
   "source": [
    "#Create tables by the three School years (2017-18, 2018-19 & 2019-20)\n",
    "\n",
    "# 2017-18SY\n",
    "student_demograhpic2017_18 = student_demograhpic[(student_demograhpic[\"Year\"] == '2017-18')]\n",
    "# 2017SY\n",
    "elascores2017 = elascores[(elascores[\"Year\"] == 2017)]\n",
    "\n",
    "# 2018-19SY\n",
    "student_demograhpic2018_19 = student_demograhpic[(student_demograhpic[\"Year\"] == '2018-19')]\n",
    "# 2018\n",
    "elascores2018 = elascores[(elascores[\"Year\"] == 2018)]\n",
    "\n",
    "\n",
    "#2019-20\n",
    "student_demograhpic2019_20 = student_demograhpic[(student_demograhpic[\"Year\"] == '2019-20')]\n",
    "#2019\n",
    "elascores2019 = elascores[(elascores[\"Year\"] == 2019)]"
   ]
  },
  {
   "cell_type": "code",
   "execution_count": 9,
   "id": "fbb12ecb",
   "metadata": {},
   "outputs": [],
   "source": [
    "# Merge tables by School year\n",
    "\n",
    "#2017-18\n",
    "ellstudent2017_18elascores = pd.merge(student_demograhpic2017_18, elascores2017, on=\"DBN\", how=\"left\")\n",
    "#2018-19\n",
    "ellstudent2018_19elascores = pd.merge(student_demograhpic2018_19, elascores2018, on=\"DBN\", how=\"left\")\n",
    "#2019-20\n",
    "ellstudent2019_20elascores = pd.merge(student_demograhpic2019_20, elascores2019, on=\"DBN\", how=\"left\")\n"
   ]
  },
  {
   "cell_type": "code",
   "execution_count": 10,
   "id": "b16fc92d",
   "metadata": {},
   "outputs": [],
   "source": [
    "#Filter NEW tables for certain columns in \n",
    "\n",
    "#ellstudent2017_18elascores\n",
    "ellstudent2017_18elascores = ellstudent2017_18elascores[[\"DBN\",\"School Name_x\", \"Grade\", \"Category\", \"Year_x\", \"Total Enrollment\", \"# English Language Learners\", \"% English Language Learners\", \"# Level 1\", \"# Level 2\", \"# Level 3\", \"# Level 4\"]]\n",
    "#Rename some columns back to original names\n",
    "ellstudent2017_18elascores = ellstudent2017_18elascores.rename(columns = {\"School Name_x\":\"School Name\", \"Year_x\":\"Year\"})\n",
    "## Replace 'Nan' with blanks\n",
    "ellstudent2017_18elascores = ellstudent2017_18elascores.replace(np.nan, '', regex=True) # entire data frame\n",
    "\n",
    "\n",
    "#ellstudent2018_19elascores\n",
    "ellstudent2018_19elascores = ellstudent2018_19elascores[[\"DBN\",\"School Name_x\", \"Grade\", \"Category\", \"Year_x\", \"Total Enrollment\", \"# English Language Learners\", \"% English Language Learners\", \"# Level 1\", \"# Level 2\", \"# Level 3\", \"# Level 4\"]]\n",
    "#Rename some columns back to original names\n",
    "ellstudent2018_19elascores = ellstudent2018_19elascores.rename(columns = {\"School Name_x\":\"School Name\", \"Year_x\":\"Year\"})\n",
    "## Replace 'Nan' with blanks\n",
    "ellstudent2018_19elascores = ellstudent2018_19elascores.replace(np.nan, '', regex=True) # entire data frame\n",
    "\n",
    "\n",
    "#ellstudent2019_20elascores\n",
    "ellstudent2019_20elascores = ellstudent2019_20elascores[[\"DBN\",\"School Name_x\", \"Grade\", \"Category\", \"Year_x\", \"Total Enrollment\", \"# English Language Learners\", \"% English Language Learners\", \"# Level 1\", \"# Level 2\", \"# Level 3\", \"# Level 4\"]]\n",
    "#Rename some columns back to original names\n",
    "ellstudent2019_20elascores = ellstudent2019_20elascores.rename(columns = {\"School Name_x\":\"School Name\", \"Year_x\":\"Year\"})\n",
    "## Replace 'Nan' with blanks\n",
    "ellstudent2019_20elascores = ellstudent2019_20elascores.replace(np.nan, '', regex=True) # entire data frame"
   ]
  },
  {
   "cell_type": "code",
   "execution_count": 11,
   "id": "d000a32f",
   "metadata": {},
   "outputs": [
    {
     "name": "stdout",
     "output_type": "stream",
     "text": [
      "0.11383399367332458\n"
     ]
    }
   ],
   "source": [
    "#Which schools have Large and small ELL student population?\n",
    "#Find the midpoint of the dataset for 2017-18\n",
    "print(ellstudent2017_18elascores['% English Language Learners'].median())"
   ]
  },
  {
   "cell_type": "code",
   "execution_count": 12,
   "id": "4a78e9c1",
   "metadata": {},
   "outputs": [
    {
     "name": "stdout",
     "output_type": "stream",
     "text": [
      "0.11168830841779709\n"
     ]
    }
   ],
   "source": [
    "#Find the midpoint of the dataset for 2018-19\n",
    "print(ellstudent2018_19elascores['% English Language Learners'].median())"
   ]
  },
  {
   "cell_type": "code",
   "execution_count": 13,
   "id": "0ce1b5ac",
   "metadata": {},
   "outputs": [
    {
     "name": "stdout",
     "output_type": "stream",
     "text": [
      "0.10730593651533127\n"
     ]
    }
   ],
   "source": [
    "#Find the midpoint of the dataset for 2019-20\n",
    "print(ellstudent2019_20elascores['% English Language Learners'].median())"
   ]
  },
  {
   "cell_type": "code",
   "execution_count": null,
   "id": "3c4c8ec7",
   "metadata": {},
   "outputs": [],
   "source": [
    "#2017-18\n",
    "#IF midpoint is 11.3% for 2017-18, then we assume that schools with % English Language Learners <=11.3% are those with small ELL population\n",
    "# and those above 11.3% are schools with Large population of ELL students \n",
    "\n",
    "#2018-19\n",
    "#IF midpoint is 11.1% for 2018-19, then we assume that schools with % English Language Learners <=11.1% are those with small ELL population\n",
    "# and those above 11.1% are schools with Large population of ELL students \n",
    "\n",
    "#2019-20\n",
    "#IF midpoint is 10.7% for 2019-20, then we assume that schools with % English Language Learners <=10.7% are those with small ELL population\n",
    "# and those above 10.7% are schools with Large population of ELL students "
   ]
  },
  {
   "cell_type": "code",
   "execution_count": 14,
   "id": "aa446401",
   "metadata": {},
   "outputs": [],
   "source": [
    "## Make copy of each dataset \n",
    "largeELLpopulation201718 = ellstudent2017_18elascores.copy(deep=True)\n",
    "smallELLpopulation201718 = ellstudent2017_18elascores.copy(deep=True)\n",
    "\n",
    "largeELLpopulation201819 = ellstudent2018_19elascores.copy(deep=True)\n",
    "smallELLpopulation201819 = ellstudent2018_19elascores.copy(deep=True)\n",
    "\n",
    "largeELLpopulation201920 = ellstudent2019_20elascores.copy(deep=True)\n",
    "smallELLpopulation201920 = ellstudent2019_20elascores.copy(deep=True)\n"
   ]
  },
  {
   "cell_type": "code",
   "execution_count": 365,
   "id": "e5b17027",
   "metadata": {},
   "outputs": [],
   "source": [
    "#Filter to find large and small ELL populations by year\n",
    "largeELLpopulation201718 = largeELLpopulation201718[ (largeELLpopulation201718[\"% English Language Learners\"] >= 0.11383399367332458)]\n",
    "smallELLpopulation201718 = smallELLpopulation201718[ (smallELLpopulation201718[\"% English Language Learners\"] <= 0.11383399367332458)]\n",
    "\n",
    "largeELLpopulation201819 = largeELLpopulation201819[ (largeELLpopulation201819[\"% English Language Learners\"] >= 0.11168830841779709)]\n",
    "smallELLpopulation201819 = smallELLpopulation201819[ (smallELLpopulation201819[\"% English Language Learners\"] <= 0.11168830841779709)]\n",
    "\n",
    "largeELLpopulation201920 = largeELLpopulation201920[ (largeELLpopulation201920[\"% English Language Learners\"] >= 0.10730593651533127)]\n",
    "smallELLpopulation201920 = smallELLpopulation201920[ (smallELLpopulation201920[\"% English Language Learners\"] <= 0.10730593651533127)]"
   ]
  },
  {
   "cell_type": "code",
   "execution_count": 15,
   "id": "0633709f",
   "metadata": {},
   "outputs": [],
   "source": [
    "#Exporting as Excel spreadsheet\n",
    "largeELLpopulation201718.to_excel('largeELLpopulation201718.xlsx')\n",
    "smallELLpopulation201718.to_excel('smallELLpopulation201718.xlsx')\n",
    "largeELLpopulation201819.to_excel('largeELLpopulation201819.xlsx')\n",
    "smallELLpopulation201819.to_excel('smallELLpopulation201819.xlsx')\n",
    "largeELLpopulation201920.to_excel('largeELLpopulation201920.xlsx')\n",
    "smallELLpopulation201920.to_excel('smallELLpopulation201920.xlsx')"
   ]
  },
  {
   "cell_type": "code",
   "execution_count": null,
   "id": "98f5a72b",
   "metadata": {},
   "outputs": [],
   "source": [
    "#Find Averages for levels 1,2 3, 4 \n",
    "\n",
    "largeELLpopulation201718avg = largeELLpopulation201718[\"# Level 1\"].mean()\n",
    "smallELLpopulation201718 = smallELLpopulation201718[\"# Level 1\"].mean()\n",
    "largeELLpopulation201819 = largeELLpopulation201819[\"# Level 1\"].mean()\n",
    "smallELLpopulation201819 = smallELLpopulation201819[\"# Level 1\"].mean()\n",
    "largeELLpopulation201920 = largeELLpopulation201920[\"# Level 1\"].mean()\n",
    "smallELLpopulation201920 = smallELLpopulation201920[\"# Level 1\"].mean()\n",
    "\n",
    "largeELLpopulation201718avg = largeELLpopulation201718[\"# Level 2\"].mean()\n",
    "smallELLpopulation201718 = smallELLpopulation201718[\"# Level 2\"].mean()\n",
    "largeELLpopulation201819 = largeELLpopulation201819[\"# Level 2\"].mean()\n",
    "smallELLpopulation201819 = smallELLpopulation201819[\"# Level 2\"].mean()\n",
    "largeELLpopulation201920 = largeELLpopulation201920[\"# Level 2\"].mean()\n",
    "smallELLpopulation201920 = smallELLpopulation201920[\"# Level 2\"].mean()\n",
    "\n",
    "largeELLpopulation201718avg = largeELLpopulation201718[\"# Level 3\"].mean()\n",
    "smallELLpopulation201718 = smallELLpopulation201718[\"# Level 3\"].mean()\n",
    "largeELLpopulation201819 = largeELLpopulation201819[\"# Level 3\"].mean()\n",
    "smallELLpopulation201819 = smallELLpopulation201819[\"# Level 3\"].mean()\n",
    "largeELLpopulation201920 = largeELLpopulation201920[\"# Level 3\"].mean()\n",
    "smallELLpopulation201920 = smallELLpopulation201920[\"# Level 3\"].mean()\n",
    "\n",
    "largeELLpopulation201718avg = largeELLpopulation201718[\"# Level 4\"].mean()\n",
    "smallELLpopulation201718 = smallELLpopulation201718[\"# Level 4\"].mean()\n",
    "largeELLpopulation201819 = largeELLpopulation201819[\"# Level 4\"].mean()\n",
    "smallELLpopulation201819 = smallELLpopulation201819[\"# Level 4\"].mean()\n",
    "largeELLpopulation201920 = largeELLpopulation201920[\"# Level 4\"].mean()\n",
    "smallELLpopulation201920 = smallELLpopulation201920[\"# Level 4\"].mean()\n",
    "\n"
   ]
  },
  {
   "cell_type": "code",
   "execution_count": null,
   "id": "6b452c88",
   "metadata": {},
   "outputs": [],
   "source": []
  }
 ],
 "metadata": {
  "kernelspec": {
   "display_name": "Python 3 (ipykernel)",
   "language": "python",
   "name": "python3"
  },
  "language_info": {
   "codemirror_mode": {
    "name": "ipython",
    "version": 3
   },
   "file_extension": ".py",
   "mimetype": "text/x-python",
   "name": "python",
   "nbconvert_exporter": "python",
   "pygments_lexer": "ipython3",
   "version": "3.9.7"
  }
 },
 "nbformat": 4,
 "nbformat_minor": 5
}
